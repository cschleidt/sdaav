{
 "cells": [
  {
   "cell_type": "code",
   "execution_count": 2,
   "metadata": {
    "collapsed": true
   },
   "outputs": [],
   "source": [
    "import pandas as pd\n",
    "\n"
   ]
  },
  {
   "cell_type": "code",
   "execution_count": 3,
   "metadata": {
    "collapsed": false
   },
   "outputs": [
    {
     "name": "stderr",
     "output_type": "stream",
     "text": [
      "/Users/christianschleidt/anaconda/lib/python2.7/site-packages/IPython/core/interactiveshell.py:2717: DtypeWarning: Columns (9,19,20,22,40,45,46,47,48,50,51) have mixed types. Specify dtype option on import or set low_memory=False.\n",
      "  interactivity=interactivity, compiler=compiler, result=result)\n"
     ]
    },
    {
     "data": {
      "text/html": [
       "<div>\n",
       "<table border=\"1\" class=\"dataframe\">\n",
       "  <thead>\n",
       "    <tr style=\"text-align: right;\">\n",
       "      <th></th>\n",
       "      <th>Unnamed: 0</th>\n",
       "      <th>Unnamed: 0.1</th>\n",
       "      <th>Unique Key</th>\n",
       "      <th>Created Date</th>\n",
       "      <th>Closed Date</th>\n",
       "      <th>Agency</th>\n",
       "      <th>Agency Name</th>\n",
       "      <th>Complaint Type</th>\n",
       "      <th>Descriptor</th>\n",
       "      <th>Location Type</th>\n",
       "      <th>...</th>\n",
       "      <th>Bridge Highway Direction</th>\n",
       "      <th>Road Ramp</th>\n",
       "      <th>Bridge Highway Segment</th>\n",
       "      <th>Garage Lot Name</th>\n",
       "      <th>Ferry Direction</th>\n",
       "      <th>Ferry Terminal Name</th>\n",
       "      <th>Latitude</th>\n",
       "      <th>Longitude</th>\n",
       "      <th>Location</th>\n",
       "      <th>crea_dates</th>\n",
       "    </tr>\n",
       "  </thead>\n",
       "  <tbody>\n",
       "    <tr>\n",
       "      <th>0</th>\n",
       "      <td>0</td>\n",
       "      <td>471</td>\n",
       "      <td>35525651</td>\n",
       "      <td>02/18/2017 09:17:00 AM</td>\n",
       "      <td>02/21/2017 12:00:00 PM</td>\n",
       "      <td>DSNY</td>\n",
       "      <td>A - Bronx</td>\n",
       "      <td>Snow</td>\n",
       "      <td>E9 Snow / Icy Sidewalk</td>\n",
       "      <td>Sidewalk</td>\n",
       "      <td>...</td>\n",
       "      <td>NaN</td>\n",
       "      <td>NaN</td>\n",
       "      <td>NaN</td>\n",
       "      <td>NaN</td>\n",
       "      <td>NaN</td>\n",
       "      <td>NaN</td>\n",
       "      <td>NaN</td>\n",
       "      <td>NaN</td>\n",
       "      <td>NaN</td>\n",
       "      <td>2017-02-18 09:17:00</td>\n",
       "    </tr>\n",
       "    <tr>\n",
       "      <th>1</th>\n",
       "      <td>1</td>\n",
       "      <td>7515</td>\n",
       "      <td>35172585</td>\n",
       "      <td>01/05/2017 08:21:00 AM</td>\n",
       "      <td>01/06/2017 12:00:00 PM</td>\n",
       "      <td>DSNY</td>\n",
       "      <td>BCC - Manhattan</td>\n",
       "      <td>Snow</td>\n",
       "      <td>15S Re-Plow/Spread/Ice-Snow Cond.</td>\n",
       "      <td>Street</td>\n",
       "      <td>...</td>\n",
       "      <td>NaN</td>\n",
       "      <td>NaN</td>\n",
       "      <td>NaN</td>\n",
       "      <td>NaN</td>\n",
       "      <td>NaN</td>\n",
       "      <td>NaN</td>\n",
       "      <td>NaN</td>\n",
       "      <td>NaN</td>\n",
       "      <td>NaN</td>\n",
       "      <td>2017-01-05 08:21:00</td>\n",
       "    </tr>\n",
       "  </tbody>\n",
       "</table>\n",
       "<p>2 rows × 56 columns</p>\n",
       "</div>"
      ],
      "text/plain": [
       "   Unnamed: 0  Unnamed: 0.1  Unique Key            Created Date  \\\n",
       "0           0           471    35525651  02/18/2017 09:17:00 AM   \n",
       "1           1          7515    35172585  01/05/2017 08:21:00 AM   \n",
       "\n",
       "              Closed Date Agency      Agency Name Complaint Type  \\\n",
       "0  02/21/2017 12:00:00 PM   DSNY        A - Bronx           Snow   \n",
       "1  01/06/2017 12:00:00 PM   DSNY  BCC - Manhattan           Snow   \n",
       "\n",
       "                          Descriptor Location Type         ...           \\\n",
       "0             E9 Snow / Icy Sidewalk      Sidewalk         ...            \n",
       "1  15S Re-Plow/Spread/Ice-Snow Cond.        Street         ...            \n",
       "\n",
       "   Bridge Highway Direction Road Ramp Bridge Highway Segment Garage Lot Name  \\\n",
       "0                       NaN       NaN                    NaN             NaN   \n",
       "1                       NaN       NaN                    NaN             NaN   \n",
       "\n",
       "  Ferry Direction Ferry Terminal Name Latitude Longitude Location  \\\n",
       "0             NaN                 NaN      NaN       NaN      NaN   \n",
       "1             NaN                 NaN      NaN       NaN      NaN   \n",
       "\n",
       "            crea_dates  \n",
       "0  2017-02-18 09:17:00  \n",
       "1  2017-01-05 08:21:00  \n",
       "\n",
       "[2 rows x 56 columns]"
      ]
     },
     "execution_count": 3,
     "metadata": {},
     "output_type": "execute_result"
    }
   ],
   "source": [
    "# Fetch data\n",
    "path = \"../\"\n",
    "filename = \"mydata_withdates.csv\"\n",
    "mydata = pd.read_csv(path+filename)\n",
    "\n",
    "mydata[0:2]"
   ]
  },
  {
   "cell_type": "code",
   "execution_count": 4,
   "metadata": {
    "collapsed": false
   },
   "outputs": [],
   "source": [
    "# Key info about the data\n",
    "\n",
    "#print mydata.dtypes\n",
    "#print \"\\nNo. of rows in dataset:\", len(mydata.index)"
   ]
  },
  {
   "cell_type": "code",
   "execution_count": 5,
   "metadata": {
    "collapsed": false
   },
   "outputs": [
    {
     "name": "stdout",
     "output_type": "stream",
     "text": [
      "Missing geodata 28462\n",
      "Missing geodata 0\n",
      "Missing date 0\n",
      "Missing descriptor 30850\n",
      "Missing type 0\n"
     ]
    }
   ],
   "source": [
    "# Clean data - missing observations in crucial columns (location, date, description and type)\n",
    "missingGeo = mydata[mydata['Latitude'].isnull()]\n",
    "print \"Missing geodata\", len(missingGeo)\n",
    "mydata = mydata.drop(missingGeo.index)\n",
    "\n",
    "missingGeo = mydata[mydata['Longitude'].isnull()]\n",
    "print \"Missing geodata\", len(missingGeo)\n",
    "mydata = mydata.drop(missingGeo.index)\n",
    "\n",
    "missingDate = mydata[mydata['Created Date'].isnull()]\n",
    "print \"Missing date\", len(missingDate)\n",
    "mydata = mydata.drop(missingDate.index)\n",
    "\n",
    "missingDesc = mydata[mydata['Descriptor'].isnull()]\n",
    "print \"Missing descriptor\", len(missingDesc)\n",
    "mydata = mydata.drop(missingDesc.index)\n",
    "\n",
    "missingType = mydata[mydata['Complaint Type'].isnull()]\n",
    "print \"Missing type\", len(missingType)\n",
    "mydata = mydata.drop(missingType.index)\n"
   ]
  },
  {
   "cell_type": "code",
   "execution_count": 8,
   "metadata": {
    "collapsed": false
   },
   "outputs": [
    {
     "name": "stdout",
     "output_type": "stream",
     "text": [
      "Done filtering\n",
      "Done concatenating\n",
      "Done resetting index\n",
      "Unnamed: 0                          int64\n",
      "Unnamed: 0.1                        int64\n",
      "Unique Key                          int64\n",
      "Created Date                       object\n",
      "Closed Date                        object\n",
      "Agency                             object\n",
      "Agency Name                        object\n",
      "Complaint Type                     object\n",
      "Descriptor                         object\n",
      "Location Type                      object\n",
      "Incident Zip                      float64\n",
      "Incident Address                   object\n",
      "Street Name                        object\n",
      "Cross Street 1                     object\n",
      "Cross Street 2                     object\n",
      "Intersection Street 1              object\n",
      "Intersection Street 2              object\n",
      "Address Type                       object\n",
      "City                               object\n",
      "Landmark                           object\n",
      "Facility Type                      object\n",
      "Status                             object\n",
      "Due Date                           object\n",
      "Resolution Description             object\n",
      "Resolution Action Updated Date     object\n",
      "Community Board                    object\n",
      "Borough                            object\n",
      "X Coordinate (State Plane)        float64\n",
      "Y Coordinate (State Plane)        float64\n",
      "Park Facility Name                 object\n",
      "Park Borough                       object\n",
      "School Name                        object\n",
      "School Number                      object\n",
      "School Region                      object\n",
      "School Code                        object\n",
      "School Phone Number                object\n",
      "School Address                     object\n",
      "School City                        object\n",
      "School State                       object\n",
      "School Zip                         object\n",
      "School Not Found                   object\n",
      "School or Citywide Complaint      float64\n",
      "Vehicle Type                      float64\n",
      "Taxi Company Borough              float64\n",
      "Taxi Pick Up Location             float64\n",
      "Bridge Highway Name                object\n",
      "Bridge Highway Direction           object\n",
      "Road Ramp                          object\n",
      "Bridge Highway Segment             object\n",
      "Garage Lot Name                   float64\n",
      "Ferry Direction                    object\n",
      "Ferry Terminal Name                object\n",
      "Latitude                          float64\n",
      "Longitude                         float64\n",
      "Location                           object\n",
      "crea_dates                         object\n",
      "dtype: object\n"
     ]
    }
   ],
   "source": [
    "# Filter on data we need for visualization\n",
    "party = mydata[(mydata.Descriptor == \"Loud Music/Party\")]\n",
    "urine = mydata[(mydata[\"Complaint Type\"] == \"Urinating in Public\")]\n",
    "rodent = mydata[(mydata[\"Complaint Type\"] == \"Rodent\")]\n",
    "graffiti = mydata[(mydata[\"Complaint Type\"] == \"Graffiti\")]\n",
    "air = mydata[(mydata[\"Complaint Type\"] == \"Air Quality\")]\n",
    "\n",
    "print \"Done filtering\"\n",
    "\n",
    "#mydata['crea_dates'] = pd.to_datetime(mydata['Created Date'])\n",
    "#print \"Created date column\"\n",
    "\n",
    "# Comncatenate in new var\n",
    "vizdata = pd.concat([party, urine, rodent, graffiti, air], axis=0)\n",
    "\n",
    "print \"Done concatenating\"\n",
    "\n",
    "vizdata.reset_index(drop=True, inplace=True)\n",
    "\n",
    "print \"Done resetting index\"\n",
    "\n",
    "print vizdata.dtypes"
   ]
  },
  {
   "cell_type": "code",
   "execution_count": 12,
   "metadata": {
    "collapsed": false
   },
   "outputs": [
    {
     "name": "stdout",
     "output_type": "stream",
     "text": [
      "Done creating date column\n",
      "Done creating year column\n",
      "Data from 2017 0\n"
     ]
    }
   ],
   "source": [
    "\n",
    "# Create/transform dates need to be tranformed to date format\n",
    "vizdata['crea_dates'] = pd.to_datetime(vizdata['Created Date'])\n",
    "\n",
    "print \"Done creating date column\"\n",
    "\n",
    "vizdata[\"Year\"] = vizdata['crea_dates'].dt.year\n",
    "#mydata[\"Weekday\"] = mydata['crea_dates'].dt.weekday\n",
    "#mydata[\"Hour\"] = mydata['crea_dates'].dt.hour\n",
    "#mydata[\"Weekday_name\"] = mydata['crea_dates'].dt.weekday_name\n",
    "\n",
    "print \"Done creating year column\"\n",
    "\n",
    "#mydata = mydata.assign(\n",
    "#    TimeOfDay=pd.cut(\n",
    "#        mydata.Hour,\n",
    "#        [-1, 5, 11, 17, 24],\n",
    "#        labels=['Night', 'Morning', 'Afternoon', 'Evening']))\n",
    "\n",
    "# Remove data from 2017 - year is incomplete\n",
    "incompleteYear = vizdata[(vizdata[\"Year\"] >= 2017)]\n",
    "print \"Data from 2017\", len(missingType)\n",
    "vizdata = vizdata.drop(incompleteYear.index)"
   ]
  },
  {
   "cell_type": "code",
   "execution_count": 15,
   "metadata": {
    "collapsed": false
   },
   "outputs": [],
   "source": [
    "# Create category column - used for visualizations\n",
    "vizdata.loc[(vizdata.Descriptor == \"Loud Music/Party\"), 'CategoryVis'] = 0\n",
    "vizdata.loc[(vizdata[\"Complaint Type\"] == \"Urinating in Public\"), 'CategoryVis'] = 1\n",
    "vizdata.loc[(vizdata[\"Complaint Type\"] == \"Rodent\"), 'CategoryVis'] = 2\n",
    "vizdata.loc[(vizdata[\"Complaint Type\"] == \"Graffiti\"), 'CategoryVis'] = 3\n",
    "vizdata.loc[(vizdata[\"Complaint Type\"] == \"Air Quality\"), 'CategoryVis'] = 3\n",
    "\n"
   ]
  },
  {
   "cell_type": "code",
   "execution_count": 26,
   "metadata": {
    "collapsed": false
   },
   "outputs": [],
   "source": [
    "# Export data to file\n",
    "exportData = vizdata[[\"CategoryVis\", \"Year\", \"Latitude\", \"Longitude\"]]\n",
    "exportData.to_csv(\"viz.csv\", sep=',', index=False)"
   ]
  },
  {
   "cell_type": "code",
   "execution_count": null,
   "metadata": {
    "collapsed": true
   },
   "outputs": [],
   "source": []
  }
 ],
 "metadata": {
  "anaconda-cloud": {},
  "kernelspec": {
   "display_name": "Python [conda root]",
   "language": "python",
   "name": "conda-root-py"
  },
  "language_info": {
   "codemirror_mode": {
    "name": "ipython",
    "version": 2
   },
   "file_extension": ".py",
   "mimetype": "text/x-python",
   "name": "python",
   "nbconvert_exporter": "python",
   "pygments_lexer": "ipython2",
   "version": "2.7.12"
  }
 },
 "nbformat": 4,
 "nbformat_minor": 1
}
